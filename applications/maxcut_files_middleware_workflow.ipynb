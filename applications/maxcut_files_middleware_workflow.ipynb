{
 "cells": [
  {
   "cell_type": "code",
   "execution_count": null,
   "id": "bf490a2a-acc9-4656-8e71-600d5c8646b6",
   "metadata": {},
   "outputs": [],
   "source": [
    "# General import\n",
    "import numpy as np\n",
    "\n",
    "# rustworkx graph library\n",
    "import rustworkx as rs\n",
    "from rustworkx.visualization import mpl_draw\n",
    "\n",
    "import os\n",
    "from quantum_serverless import QuantumServerless, Provider, Program"
   ]
  },
  {
   "cell_type": "code",
   "execution_count": null,
   "id": "e66ba53d-e02c-4734-9b39-f90801c3e963",
   "metadata": {},
   "outputs": [],
   "source": [
    "provider = Provider(\n",
    "#    token=\"YOUR_TOKEN_FROM_STAGING\",\n",
    "    username=\"user\",\n",
    "    password=\"password123\",\n",
    "    host=os.environ.get(\"GATEWAY_HOST\", \"http://localhost:8000\")\n",
    ")\n",
    "provider\n",
    "\n",
    "serverless = QuantumServerless(provider)\n",
    "serverless"
   ]
  },
  {
   "cell_type": "code",
   "execution_count": null,
   "id": "3716e9fd-defe-438c-9629-716b42aa44fe",
   "metadata": {},
   "outputs": [],
   "source": [
    "program = Program(\n",
    "    title=\"Maxcut workflow\",\n",
    "    entrypoint=\"quantum_program.py\",\n",
    "    working_dir=\"./\",\n",
    "    dependencies=[\"docplex\", \"qiskit_aer\", \"matplotlib\"]\n",
    ")\n",
    "\n",
    "job = serverless.run(program)\n",
    "job"
   ]
  },
  {
   "cell_type": "code",
   "execution_count": null,
   "id": "6d09e1f9-f2d2-4e1a-bdaa-65236dae50a1",
   "metadata": {},
   "outputs": [],
   "source": [
    "job.status()"
   ]
  },
  {
   "cell_type": "code",
   "execution_count": null,
   "id": "b2818a9c-d647-4443-9e99-6e4c15458f7c",
   "metadata": {},
   "outputs": [],
   "source": [
    "job.result()"
   ]
  },
  {
   "cell_type": "code",
   "execution_count": null,
   "id": "187272a8-f157-4a85-a01e-ca638e64c483",
   "metadata": {},
   "outputs": [],
   "source": [
    "import json\n",
    "\n",
    "matrix = np.array(json.loads(job.result())[\"matrix\"])\n",
    "data = np.array(json.loads(job.result())[\"solution\"])\n",
    "graph = rs.PyGraph.from_adjacency_matrix(matrix)"
   ]
  },
  {
   "cell_type": "code",
   "execution_count": null,
   "id": "9e03f084-b9c8-4220-bc12-33f85b0bb27a",
   "metadata": {},
   "outputs": [],
   "source": [
    "mpl_draw(graph, with_labels=True, node_color='cyan')"
   ]
  },
  {
   "cell_type": "code",
   "execution_count": null,
   "id": "678c7018-c99a-4e72-9115-30a1165dd65d",
   "metadata": {},
   "outputs": [],
   "source": [
    "mpl_draw(graph, with_labels=True, \n",
    "         node_color=['cyan' if kk else 'violet' for kk in data])"
   ]
  },
  {
   "cell_type": "code",
   "execution_count": null,
   "id": "f473534b-c220-4197-9c3b-e624c11edada",
   "metadata": {},
   "outputs": [],
   "source": [
    "print(job.logs())"
   ]
  },
  {
   "cell_type": "code",
   "execution_count": null,
   "id": "d82e8737-2f13-4138-9414-48e6a4f80855",
   "metadata": {},
   "outputs": [],
   "source": []
  }
 ],
 "metadata": {
  "kernelspec": {
   "display_name": "Python 3 (ipykernel)",
   "language": "python",
   "name": "python3"
  },
  "language_info": {
   "codemirror_mode": {
    "name": "ipython",
    "version": 3
   },
   "file_extension": ".py",
   "mimetype": "text/x-python",
   "name": "python",
   "nbconvert_exporter": "python",
   "pygments_lexer": "ipython3",
   "version": "3.9.13"
  }
 },
 "nbformat": 4,
 "nbformat_minor": 5
}
