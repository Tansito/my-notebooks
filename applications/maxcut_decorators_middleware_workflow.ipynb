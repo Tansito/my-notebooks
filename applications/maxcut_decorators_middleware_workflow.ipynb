{
 "cells": [
  {
   "cell_type": "markdown",
   "id": "8d5a36ed-4996-45a9-918f-4c8bfb39f144",
   "metadata": {},
   "source": [
    "# Maxcut problem"
   ]
  },
  {
   "cell_type": "markdown",
   "id": "eb810399-2dfe-4f31-bf6b-91547e3fd2f8",
   "metadata": {},
   "source": [
    "## **Step 0**: Setup"
   ]
  },
  {
   "cell_type": "code",
   "execution_count": null,
   "id": "67a5a8b8-337f-4df7-b9c7-716c3ff36529",
   "metadata": {},
   "outputs": [],
   "source": [
    "# General imports\n",
    "import math\n",
    "import numpy as np\n",
    "\n",
    "# Qiskit ansatz circuits\n",
    "from qiskit.circuit.library import RealAmplitudes\n",
    "\n",
    "# Qiskit primitives\n",
    "from qiskit.primitives import Estimator as QiskitEstimator\n",
    "from qiskit_aer.primitives import Estimator as AerEstimator\n",
    "from qiskit.primitives import Sampler as QiskitSampler\n",
    "from qiskit_aer.primitives import Sampler as AerSampler\n",
    "\n",
    "# Qiskit runtime\n",
    "from qiskit_ibm_runtime import QiskitRuntimeService\n",
    "from qiskit_ibm_runtime import Estimator, Sampler, Session\n",
    "\n",
    "# quadratic_program\n",
    "from quadratic_program import QuadraticProgram\n",
    "\n",
    "# Docplex - classical description of optimization problems\n",
    "from docplex.mp.model import Model\n",
    "\n",
    "# translations\n",
    "from translators import docplex_mp_to_qp\n",
    "from translators import qubo_to_sparse_pauli_op\n",
    "\n",
    "# workflows \n",
    "from workflows import QuadraticProgramPostprocess, QuadraticProgramConverter\n",
    "\n",
    "# SPSA\n",
    "from spsa import minimize_spsa\n",
    "\n",
    "# rustworkx graph library\n",
    "import rustworkx as rs\n",
    "from rustworkx.visualization import mpl_draw\n",
    "\n",
    "# Middleware\n",
    "import os\n",
    "from quantum_serverless import Provider, distribute_program, distribute_task"
   ]
  },
  {
   "cell_type": "markdown",
   "id": "c4a47811-d20b-4ff9-8ff4-15ee5043ae47",
   "metadata": {},
   "source": [
    "## Load the Runtime (if using)"
   ]
  },
  {
   "cell_type": "code",
   "execution_count": null,
   "id": "9bf116c7-c5bc-4d9f-a3f5-141d74e1e83e",
   "metadata": {},
   "outputs": [],
   "source": [
    "service = QiskitRuntimeService(\n",
    "    channel=\"ibm_quantum\", \n",
    "    token=\"<YOUR_IBM_TOKEN_HERE>\"\n",
    ")"
   ]
  },
  {
   "cell_type": "code",
   "execution_count": null,
   "id": "0cee1a24-1a11-4475-9161-d0e45302f029",
   "metadata": {},
   "outputs": [],
   "source": [
    "backend = service.get_backend('ibm_kyiv')"
   ]
  },
  {
   "cell_type": "markdown",
   "id": "1237cbeb-847a-4c59-bd2d-e5a332b43cb2",
   "metadata": {},
   "source": [
    "## Load IBM Quantum Middleware"
   ]
  },
  {
   "cell_type": "code",
   "execution_count": null,
   "id": "4ecdb64d-b886-4ab1-a2ec-d36c21e17115",
   "metadata": {},
   "outputs": [],
   "source": [
    "provider = Provider(\n",
    "#    token=\"YOUR_TOKEN_FROM_STAGING\",\n",
    "    username=\"user\",\n",
    "    password=\"password123\",\n",
    "    host=os.environ.get(\"GATEWAY_HOST\", \"http://localhost:8000\")\n",
    ")\n",
    "provider"
   ]
  },
  {
   "cell_type": "markdown",
   "id": "5a6009b4-fc67-4736-9178-1c3f5057fc40",
   "metadata": {},
   "source": [
    "## **Step 1** Map the problem to a Quantum Native format (Set of Operators, and a set of Quantum Circuits)\n",
    "\n",
    "Specify optimization problem using docplex and convert to Quadratic Unconstained Binary Opimization (QUBO) problem that can be cast as an Ising Hamiltonian suitable for a quantum solution."
   ]
  },
  {
   "cell_type": "code",
   "execution_count": null,
   "id": "fd938bb7-3cf7-4dc3-81c1-d8cff1e39455",
   "metadata": {},
   "outputs": [],
   "source": [
    "def random_adjacency_graph(N, density=0.5):\n",
    "    \"\"\"Build random adjacency graph of a given density\n",
    "\n",
    "    Parameters:\n",
    "        N (int): Matrx dimension\n",
    "        density (float): Density of non-zero elements, default=0.5\n",
    "\n",
    "    Returns:\n",
    "        ndarray: Adjacency matrix as NumPy array\n",
    "    \"\"\"\n",
    "    off_elems = N*(N-1)//2\n",
    "    num_elems = math.ceil(off_elems * density)\n",
    "    inds = np.sort(np.random.choice(off_elems, size=num_elems, replace=False))\n",
    "\n",
    "    M = np.zeros((N, N), dtype=float)\n",
    "    for k in inds:\n",
    "        i = N - 2 - int(math.sqrt(-8*k + 4*N*(N-1)-7)/2 - 0.5)\n",
    "        j = (k + i + 1 - N*(N-1)//2 + (N-i)*((N-i)-1)//2)\n",
    "        M[i,j] = 1\n",
    "\n",
    "    M = M + M.T\n",
    "    return M"
   ]
  },
  {
   "cell_type": "code",
   "execution_count": null,
   "id": "9a52d0f6-0b34-4db6-bff6-34e38886f421",
   "metadata": {},
   "outputs": [],
   "source": [
    "def build_model(G):\n",
    "    mdl = Model(name=\"Max-cut\")\n",
    "    x = {i: mdl.binary_var(name=f\"x_{i}\") for i in range(G.num_nodes())}\n",
    "    objective = mdl.sum(w * x[i] * (1 - x[j]) + w * x[j] * (1 - x[i]) for i, j, w in G.weighted_edge_list())\n",
    "    mdl.maximize(objective)\n",
    "    return mdl"
   ]
  },
  {
   "cell_type": "markdown",
   "id": "823b3cd9-be66-4d94-a9a1-d766a270dbf6",
   "metadata": {},
   "source": [
    "### Convert to our `QuadraticProgram` format"
   ]
  },
  {
   "cell_type": "code",
   "execution_count": null,
   "id": "49a33b1f-8262-4171-b71e-f628e8b9c884",
   "metadata": {},
   "outputs": [],
   "source": [
    "def build_quadratic_program(mdl):\n",
    "    qp = docplex_mp_to_qp(mdl)\n",
    "    return qp"
   ]
  },
  {
   "cell_type": "markdown",
   "id": "5d434122-503a-4949-b6a8-0674882c4644",
   "metadata": {},
   "source": [
    "### Classical transformation to QUBO problem and Ising Hamiltonian"
   ]
  },
  {
   "cell_type": "code",
   "execution_count": null,
   "id": "4915d0c1-b45b-493f-b1e6-a6269c548c27",
   "metadata": {},
   "outputs": [],
   "source": [
    "def build_quadratic_transformer(qp):\n",
    "    quadratic_transformer = QuadraticProgramConverter()\n",
    "    qubo = quadratic_transformer.run(qp)\n",
    "    hamiltonian, offset = qubo_to_sparse_pauli_op(qubo)\n",
    "    return quadratic_transformer, qubo, hamiltonian"
   ]
  },
  {
   "cell_type": "markdown",
   "id": "d963c609",
   "metadata": {},
   "source": [
    "### Select ansatz circuit from circuit library"
   ]
  },
  {
   "cell_type": "code",
   "execution_count": null,
   "id": "777e255e",
   "metadata": {},
   "outputs": [],
   "source": [
    "def quantum_solution_setup(hamiltonian):\n",
    "    ansatz = RealAmplitudes(hamiltonian.num_qubits, entanglement = 'linear', reps=2)\n",
    "    return ansatz"
   ]
  },
  {
   "cell_type": "markdown",
   "id": "7cccd4e1-edde-4f36-aa53-c3f826c58e13",
   "metadata": {},
   "source": [
    "## **Step 2**: Optimize the circuits and the operators to be measured"
   ]
  },
  {
   "cell_type": "code",
   "execution_count": null,
   "id": "90866c70-c6cf-4b22-8663-0f0600d96056",
   "metadata": {},
   "outputs": [],
   "source": [
    "from qiskit.compiler import transpile\n",
    "\n",
    "def optimize_circuits(ansatz):\n",
    "    ansatz_ibm = transpile(ansatz, backend=backend, optimization_level=3, scheduling_method='alap')\n",
    "    return ansatz_ibm"
   ]
  },
  {
   "cell_type": "code",
   "execution_count": null,
   "id": "ae36630d-6530-40d7-b638-62bb488e0587",
   "metadata": {},
   "outputs": [],
   "source": [
    "# Dynamical decoupling imports\n",
    "from qiskit.circuit.library import XGate, YGate\n",
    "from qiskit.transpiler import PassManager, InstructionDurations\n",
    "from qiskit.transpiler.passes import ALAPScheduleAnalysis, PadDynamicalDecoupling\n",
    "\n",
    "def apply_backend_constraints(ansatz_ibm):\n",
    "    durations = InstructionDurations.from_backend(backend)\n",
    "    constraints = backend.configuration().timing_constraints\n",
    "    \n",
    "    # CPMG sequence\n",
    "    dd_sequence = [XGate(), XGate()]\n",
    "    # Fraction of duration to place in-between DD sequence gates\n",
    "    spacing = [1/4, 1/2, 1/4]\n",
    "    \n",
    "    pm = PassManager([ALAPScheduleAnalysis(durations),\n",
    "                  PadDynamicalDecoupling(durations, dd_sequence, spacing=spacing,\n",
    "                                         pulse_alignment=constraints['pulse_alignment'])])\n",
    "    dd_circs = pm.run(ansatz_ibm)\n",
    "    return dd_circs"
   ]
  },
  {
   "cell_type": "code",
   "execution_count": null,
   "id": "69700f7f-ea35-4942-9640-2bf850977756",
   "metadata": {},
   "outputs": [],
   "source": [
    "from permute_sparse_pauli_op import permute_sparse_pauli_op\n",
    "\n",
    "def optimize_operators(ansatz, ansatz_ibm, hamiltonian):\n",
    "    layout = ansatz_ibm.layout.initial_layout\n",
    "    hamiltonian_ibm = permute_sparse_pauli_op(hamiltonian,layout, ansatz.qubits)\n",
    "    return hamiltonian_ibm"
   ]
  },
  {
   "cell_type": "markdown",
   "id": "8c55893f-5e2e-4519-80ba-6711b93b045d",
   "metadata": {},
   "source": [
    "## **Step 3**: Execute using a quantum primitive function (estimator or sampler)\n",
    "\n",
    "### Standard cost function definition"
   ]
  },
  {
   "cell_type": "code",
   "execution_count": null,
   "id": "aed58f2e-0761-441f-aeea-793adeabc63a",
   "metadata": {},
   "outputs": [],
   "source": [
    "def cost_func(params, ansatz, hamiltonian, estimator):\n",
    "    \"\"\"Return estimate of energy from estimator\n",
    "\n",
    "    Parameters:\n",
    "        params (ndarray): Array of ansatz parameters\n",
    "        ansatz (QuantumCircuit): Parameterized ansatz circuit\n",
    "        hamiltonian (SparsePauliOp): Operator representation of Hamiltonian\n",
    "        estimator (Estimator): Estimator primitive instance\n",
    "\n",
    "    Returns:\n",
    "        float: Energy estimate\n",
    "    \"\"\"\n",
    "    cost = estimator.run(ansatz, hamiltonian, parameter_values=params).result().values[0]\n",
    "    return cost"
   ]
  },
  {
   "cell_type": "markdown",
   "id": "b3b0aac9-67cc-424a-8cfa-5368dbeea9b8",
   "metadata": {},
   "source": [
    "### Setup estimator and sampler instances"
   ]
  },
  {
   "cell_type": "code",
   "execution_count": null,
   "id": "6f3315e0-b85e-44e9-a286-01888d28038f",
   "metadata": {},
   "outputs": [],
   "source": [
    "def setup_estimator_sampler():\n",
    "    #session = Session(backend=backend)\n",
    "    #estimator = Estimator(session=session, options={\"shots\": int(1e4)})\n",
    "    #sampler = Sampler(session=session, options={\"shots\": int(1e4)})\n",
    "    #estimator = QiskitEstimator(options={\"shots\": int(1e4)})\n",
    "    #sampler = QiskitSampler(options={\"shots\": int(1e4)})\n",
    "\n",
    "    estimator = AerEstimator()\n",
    "    sampler = AerSampler()\n",
    "    return estimator, sampler"
   ]
  },
  {
   "cell_type": "markdown",
   "id": "c8302b04-36fb-429f-9d92-446f9b9e6333",
   "metadata": {},
   "source": [
    "### Perform minimization"
   ]
  },
  {
   "cell_type": "code",
   "execution_count": null,
   "id": "0fd6a59d-7e53-42a9-9410-c236239ed66a",
   "metadata": {},
   "outputs": [],
   "source": [
    "def minimize(dd_circs, hamiltonian_ibm, estimator):\n",
    "    x0 = 2*np.pi*np.random.random(size=dd_circs.num_parameters)\n",
    "    res = minimize_spsa(cost_func, x0, args=(dd_circs, hamiltonian_ibm, estimator), maxiter=5)\n",
    "    return res"
   ]
  },
  {
   "cell_type": "markdown",
   "id": "39c2b583-8ec4-4cca-8014-697cbda48207",
   "metadata": {},
   "source": [
    "### Computute distribution at found minimum"
   ]
  },
  {
   "cell_type": "code",
   "execution_count": null,
   "id": "a63e4bba-1d5b-402e-ae39-8cd35c6843d9",
   "metadata": {},
   "outputs": [],
   "source": [
    "def compute_distribution(dd_circs, sampler, res):\n",
    "    # Assign solution parameters to ansatz\n",
    "    qc = dd_circs.assign_parameters(res.x)\n",
    "    qc.measure_all()\n",
    "    samp_dist = sampler.run(qc, shots=int(1e4)).result().quasi_dists[0]\n",
    "    # Close the session since we are now done with it\n",
    "    #session.close()\n",
    "    return samp_dist"
   ]
  },
  {
   "cell_type": "markdown",
   "id": "8f52cbc3-618f-4c95-ab07-ae28c9d884ab",
   "metadata": {},
   "source": [
    "## **Step 4**: Post-processing of the results to return either a plot or the answer\n",
    "Transform quantum solution and convert back into classical variable space"
   ]
  },
  {
   "cell_type": "code",
   "execution_count": null,
   "id": "6538029d-37e4-4c21-9423-1949496c2600",
   "metadata": {},
   "outputs": [],
   "source": [
    "def post_processing(qubo, quadratic_transformer, samp_dist):\n",
    "    solution = QuadraticProgramPostprocess(qubo, quadratic_transformer).run(samp_dist)\n",
    "    return solution"
   ]
  },
  {
   "cell_type": "markdown",
   "id": "e8e10581-ccb1-453d-af5f-b389a07738dd",
   "metadata": {},
   "source": [
    "### Setup Middleware"
   ]
  },
  {
   "cell_type": "code",
   "execution_count": null,
   "id": "f62f9b00-7e11-4c42-a603-e6ebbb31bdd9",
   "metadata": {},
   "outputs": [],
   "source": [
    "@distribute_program(provider, working_dir=\"./\", dependencies=[\"docplex\"])\n",
    "def program_maxcut():\n",
    "    \n",
    "    N = 10\n",
    "    density = 0.6\n",
    "    M = random_adjacency_graph(N, density)\n",
    "    G = rs.PyGraph.from_adjacency_matrix(M)\n",
    "    mpl_draw(G, with_labels=True, node_color='cyan')\n",
    "    \n",
    "    mdl = build_model(G)\n",
    "    print(mdl.export_as_lp_string())\n",
    "    \n",
    "    qp = build_quadratic_program(mdl)\n",
    "    print(qp.prettyprint())\n",
    "    \n",
    "    quadratic_transformer, qubo, hamiltonian = build_quadratic_transformer(qp)\n",
    "    print(qubo.prettyprint())\n",
    "    print(hamiltonian)\n",
    "    \n",
    "    ansatz = quantum_solution_setup(hamiltonian)\n",
    "    print(ansatz.decompose())\n",
    "    \n",
    "    ansatz_ibm = optimize_circuits(ansatz)\n",
    "    print(ansatz_ibm.depth())\n",
    "    \n",
    "    dd_circs = apply_backend_constraints(ansatz_ibm)\n",
    "    dd_circs.draw(idle_wires=False)\n",
    "    \n",
    "    hamiltonian_ibm = optimize_operators(ansatz, ansatz_ibm, hamiltonian)\n",
    "    \n",
    "    estimator, sampler = setup_estimator_sampler()\n",
    "    res = minimize(dd_circs, hamiltonian_ibm, estimator)\n",
    "    print(res)\n",
    "    \n",
    "    samp_dist = compute_distribution(dd_circs, sampler, res)\n",
    "    \n",
    "    solution = post_processing(qubo, quadratic_transformer, samp_dist)\n",
    "    \n",
    "    return {\n",
    "        \"matrix\": M.tolist(),\n",
    "        \"solution\": solution.tolist()\n",
    "    }"
   ]
  },
  {
   "cell_type": "code",
   "execution_count": null,
   "id": "5a7758a0-7ee4-4eb6-b8b5-894322906d77",
   "metadata": {},
   "outputs": [],
   "source": [
    "job = program_maxcut()\n",
    "job"
   ]
  },
  {
   "cell_type": "code",
   "execution_count": null,
   "id": "15c4b08a-d438-4f49-9485-a65f9c5d3693",
   "metadata": {},
   "outputs": [],
   "source": [
    "job.status()"
   ]
  },
  {
   "cell_type": "markdown",
   "id": "5a0762b4-445d-486a-b875-41713789dc12",
   "metadata": {},
   "source": [
    "## Intepretation of solution"
   ]
  },
  {
   "cell_type": "code",
   "execution_count": null,
   "id": "42fa21bd-8f72-4184-b31a-15c0149142f2",
   "metadata": {},
   "outputs": [],
   "source": [
    "import json\n",
    "\n",
    "middleware_res = json.loads(job.result())\n",
    "\n",
    "matrix = np.array(middleware_res[\"matrix\"])\n",
    "data = np.array(middleware_res[\"solution\"])\n",
    "graph = rs.PyGraph.from_adjacency_matrix(matrix)\n",
    "\n",
    "mpl_draw(G, with_labels=True, \n",
    "         node_color=['cyan' if kk else 'violet' for kk in data])"
   ]
  },
  {
   "cell_type": "code",
   "execution_count": null,
   "id": "0b484395-121c-43e1-acf4-0517b92243e7",
   "metadata": {},
   "outputs": [],
   "source": []
  }
 ],
 "metadata": {
  "kernelspec": {
   "display_name": "Python 3 (ipykernel)",
   "language": "python",
   "name": "python3"
  },
  "language_info": {
   "codemirror_mode": {
    "name": "ipython",
    "version": 3
   },
   "file_extension": ".py",
   "mimetype": "text/x-python",
   "name": "python",
   "nbconvert_exporter": "python",
   "pygments_lexer": "ipython3",
   "version": "3.9.13"
  }
 },
 "nbformat": 4,
 "nbformat_minor": 5
}
