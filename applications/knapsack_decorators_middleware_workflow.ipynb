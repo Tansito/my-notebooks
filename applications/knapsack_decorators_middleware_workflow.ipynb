{
 "cells": [
  {
   "cell_type": "markdown",
   "id": "0974447b-69cf-4449-ae57-ba8280076a3c",
   "metadata": {},
   "source": [
    "# Knapsack example\n",
    "\n",
    "Goal: Maximize the value of items in a bag constrained by the maximum weight the bag can carry.  At most one of each item can go in the bag."
   ]
  },
  {
   "cell_type": "markdown",
   "id": "00fa799a-2cba-4631-b212-26f37ab0300e",
   "metadata": {},
   "source": [
    "## **Step 0**: Setup"
   ]
  },
  {
   "cell_type": "code",
   "execution_count": 1,
   "id": "67a5a8b8-337f-4df7-b9c7-716c3ff36529",
   "metadata": {},
   "outputs": [
    {
     "name": "stderr",
     "output_type": "stream",
     "text": [
      "OpenBLAS WARNING - could not determine the L2 cache size on this system, assuming 256k\n",
      "OpenBLAS WARNING - could not determine the L2 cache size on this system, assuming 256k\n",
      "OpenBLAS WARNING - could not determine the L2 cache size on this system, assuming 256k\n"
     ]
    }
   ],
   "source": [
    "# General imports\n",
    "import numpy as np\n",
    "\n",
    "# Qiskit ansatz circuits\n",
    "from qiskit.circuit.library import TwoLocal\n",
    "\n",
    "# Qiskit primitives\n",
    "from qiskit.primitives import Estimator as QiskitEstimator\n",
    "from qiskit.primitives import Sampler as QiskitSampler\n",
    "\n",
    "# Qiskit runtime\n",
    "from qiskit_ibm_runtime import QiskitRuntimeService\n",
    "from qiskit_ibm_runtime import Estimator, Sampler, Session\n",
    "\n",
    "# quadratic_program\n",
    "from quadratic_program import QuadraticProgram\n",
    "\n",
    "# Docplex - classical description of optimization problems\n",
    "from docplex.mp.model import Model\n",
    "\n",
    "# translations\n",
    "from translators import docplex_mp_to_qp\n",
    "from translators import qubo_to_sparse_pauli_op\n",
    "\n",
    "# workflows \n",
    "from workflows import QuadraticProgramPostprocess, QuadraticProgramConverter\n",
    "\n",
    "# SPSA\n",
    "from spsa import minimize_spsa\n",
    "\n",
    "# Middleware\n",
    "import os\n",
    "from quantum_serverless import Provider, distribute_program, distribute_task"
   ]
  },
  {
   "cell_type": "markdown",
   "id": "1237cbeb-847a-4c59-bd2d-e5a332b43cb2",
   "metadata": {},
   "source": [
    "## Load IBM Quantum Middleware"
   ]
  },
  {
   "cell_type": "code",
   "execution_count": 2,
   "id": "4ecdb64d-b886-4ab1-a2ec-d36c21e17115",
   "metadata": {},
   "outputs": [
    {
     "data": {
      "text/plain": [
       "<Provider: gateway-provider>"
      ]
     },
     "execution_count": 2,
     "metadata": {},
     "output_type": "execute_result"
    }
   ],
   "source": [
    "provider = Provider(\n",
    "#    token=\"YOUR_TOKEN_FROM_STAGING\",\n",
    "    username=\"user\",\n",
    "    password=\"password123\",\n",
    "    host=os.environ.get(\"GATEWAY_HOST\", \"http://localhost:8000\")\n",
    ")\n",
    "provider"
   ]
  },
  {
   "cell_type": "markdown",
   "id": "5a6009b4-fc67-4736-9178-1c3f5057fc40",
   "metadata": {},
   "source": [
    "## **Step 1** Map the problem to a Quantum Native format (Set of Operators, and a set of Quantum Circuits)\n",
    "\n",
    "Specify optimization problem using docplex and convert to Quadratic Unconstained Binary Opimization (QUBO) problem that can be cast as an Ising Hamiltonian suitable for a quantum solution."
   ]
  },
  {
   "cell_type": "code",
   "execution_count": 3,
   "id": "60e03730-2f3a-48fe-bc50-9d079c11603c",
   "metadata": {},
   "outputs": [],
   "source": [
    "value_of_items = [4, 3, 5, 6, 7]\n",
    "weight_of_items = [2, 2, 4, 5, 6]\n",
    "max_weight = 12"
   ]
  },
  {
   "cell_type": "code",
   "execution_count": 4,
   "id": "5dffd0a0",
   "metadata": {},
   "outputs": [],
   "source": [
    "def build_model():\n",
    "    mdl = Model(name=\"0-1 Knapsack problem\")\n",
    "    x = {i: mdl.binary_var(name=f\"x_{i}\") for i in range(len(value_of_items))}\n",
    "    mdl.maximize(mdl.sum(value_of_items[i] * x[i] for i in x))\n",
    "    mdl.add_constraint(mdl.sum(weight_of_items[i] * x[i] for i in x) <= max_weight);\n",
    "    return mdl"
   ]
  },
  {
   "cell_type": "markdown",
   "id": "823b3cd9-be66-4d94-a9a1-d766a270dbf6",
   "metadata": {},
   "source": [
    "### Convert to `QuadraticProgram` format"
   ]
  },
  {
   "cell_type": "code",
   "execution_count": 5,
   "id": "3e80187a-858e-4b48-9f17-8f50ebd001b2",
   "metadata": {},
   "outputs": [],
   "source": [
    "def build_quadratic_program(mdl):\n",
    "    qp = docplex_mp_to_qp(mdl)\n",
    "    return qp"
   ]
  },
  {
   "cell_type": "markdown",
   "id": "5d434122-503a-4949-b6a8-0674882c4644",
   "metadata": {},
   "source": [
    "### Classical transformation to QUBO problem and Ising Hamiltonian"
   ]
  },
  {
   "cell_type": "code",
   "execution_count": 6,
   "id": "093253cf-a14f-4aed-81ce-4e492f3239c9",
   "metadata": {},
   "outputs": [],
   "source": [
    "def build_quadratic_transformer(qp):\n",
    "    quadratic_transformer = QuadraticProgramConverter()\n",
    "    qubo = quadratic_transformer.run(qp)\n",
    "    hamiltonian, offset = qubo_to_sparse_pauli_op(qubo)\n",
    "    return quadratic_transformer, qubo, hamiltonian"
   ]
  },
  {
   "cell_type": "markdown",
   "id": "40992f5a-498c-4aed-a7bb-efffcb5247b8",
   "metadata": {},
   "source": [
    "### Select ansatz circuit from circuit library"
   ]
  },
  {
   "cell_type": "code",
   "execution_count": 7,
   "id": "02ff78d9-119a-4b63-8b6a-ffd94ae1e059",
   "metadata": {},
   "outputs": [],
   "source": [
    "def quantum_solution_setup(hamiltonian):\n",
    "    ansatz = TwoLocal(hamiltonian.num_qubits, 'ry', 'cx', 'linear', reps=1)\n",
    "    return ansatz"
   ]
  },
  {
   "cell_type": "markdown",
   "id": "d6b2bda5-bbf7-44a1-9628-31b9689483a8",
   "metadata": {},
   "source": [
    "## **Step 2**: Optimize the circuits and the operators to be measured"
   ]
  },
  {
   "cell_type": "markdown",
   "id": "8cbb6ebc-b9d9-4b9c-8e2c-894cbcb722ec",
   "metadata": {},
   "source": [
    "NONE"
   ]
  },
  {
   "cell_type": "markdown",
   "id": "904cdd7f-5deb-4f60-8889-c2d7c20e0229",
   "metadata": {},
   "source": [
    "## **Step 3**: Execute using a quantum primitive function (estimator or sampler)\n"
   ]
  },
  {
   "cell_type": "markdown",
   "id": "8c55893f-5e2e-4519-80ba-6711b93b045d",
   "metadata": {},
   "source": [
    "### Standard cost function definition"
   ]
  },
  {
   "cell_type": "code",
   "execution_count": 8,
   "id": "aed58f2e-0761-441f-aeea-793adeabc63a",
   "metadata": {},
   "outputs": [],
   "source": [
    "def cost_func(params, ansatz, hamiltonian, estimator):\n",
    "    \"\"\"Return estimate of energy from estimator\n",
    "\n",
    "    Parameters:\n",
    "        params (ndarray): Array of ansatz parameters\n",
    "        ansatz (QuantumCircuit): Parameterized ansatz circuit\n",
    "        hamiltonian (SparsePauliOp): Operator representation of Hamiltonian\n",
    "        estimator (Estimator): Estimator primitive instance\n",
    "\n",
    "    Returns:\n",
    "        float: Energy estimate\n",
    "    \"\"\"\n",
    "    cost = estimator.run(ansatz, hamiltonian, parameter_values=params).result().values[0]\n",
    "    return cost"
   ]
  },
  {
   "cell_type": "markdown",
   "id": "b3b0aac9-67cc-424a-8cfa-5368dbeea9b8",
   "metadata": {},
   "source": [
    "### Setup estimator and sampler instances"
   ]
  },
  {
   "cell_type": "code",
   "execution_count": 9,
   "id": "6f3315e0-b85e-44e9-a286-01888d28038f",
   "metadata": {},
   "outputs": [],
   "source": [
    "def setup_estimator_sampler():\n",
    "    estimator = QiskitEstimator(options={\"shots\": int(1e4)})\n",
    "    sampler = QiskitSampler(options={\"shots\": int(1e4)})\n",
    "    return estimator, sampler"
   ]
  },
  {
   "cell_type": "markdown",
   "id": "c8302b04-36fb-429f-9d92-446f9b9e6333",
   "metadata": {},
   "source": [
    "### Perform minimization"
   ]
  },
  {
   "cell_type": "code",
   "execution_count": 10,
   "id": "0fd6a59d-7e53-42a9-9410-c236239ed66a",
   "metadata": {},
   "outputs": [],
   "source": [
    "def minimize(ansatz, hamiltonian, estimator):\n",
    "    x0 = 2*np.pi*np.random.random(size=ansatz.num_parameters)\n",
    "    res = minimize_spsa(cost_func, x0,\n",
    "                        args=(ansatz, hamiltonian, estimator),\n",
    "                        maxiter=100)\n",
    "    return res"
   ]
  },
  {
   "cell_type": "markdown",
   "id": "39c2b583-8ec4-4cca-8014-697cbda48207",
   "metadata": {},
   "source": [
    "### Computute distribution at found minimum"
   ]
  },
  {
   "cell_type": "code",
   "execution_count": 11,
   "id": "a63e4bba-1d5b-402e-ae39-8cd35c6843d9",
   "metadata": {},
   "outputs": [],
   "source": [
    "def compute_distribution(ansatz, sampler, res):\n",
    "    # Assign solution parameters to ansatz\n",
    "    qc = ansatz.assign_parameters(res.x)\n",
    "    qc.measure_all()\n",
    "    samp_dist = sampler.run(qc, shots=int(1e4)).result().quasi_dists[0]\n",
    "    return samp_dist"
   ]
  },
  {
   "cell_type": "markdown",
   "id": "8f52cbc3-618f-4c95-ab07-ae28c9d884ab",
   "metadata": {},
   "source": [
    "## **Step 4**: Post-processing of the results to return either a plot or the answer\n",
    "Transform quantum solution and convert back into classical variable space"
   ]
  },
  {
   "cell_type": "code",
   "execution_count": 12,
   "id": "7316c04d-e84b-462c-b8b1-13c8293e5aea",
   "metadata": {},
   "outputs": [],
   "source": [
    "def post_processing(qubo, quadratic_transformer, samp_dist):\n",
    "    solution = QuadraticProgramPostprocess(qubo, quadratic_transformer).run(samp_dist)\n",
    "    return solution"
   ]
  },
  {
   "cell_type": "markdown",
   "id": "9c17c67b-6fba-4c1f-89d9-b18544737991",
   "metadata": {},
   "source": [
    "### Setup Middleware"
   ]
  },
  {
   "cell_type": "code",
   "execution_count": 13,
   "id": "ad6498ec-fe81-4c88-abc1-ea6e9ade7604",
   "metadata": {},
   "outputs": [],
   "source": [
    "@distribute_program(provider, working_dir=\"./\", dependencies=[\"docplex\"])\n",
    "def program_knapsack():\n",
    "\n",
    "    # Step 1\n",
    "    \n",
    "    mdl = build_model()\n",
    "    print(mdl.export_as_lp_string())\n",
    "    \n",
    "    qp = build_quadratic_program(mdl)\n",
    "    print(qp.prettyprint())\n",
    "    \n",
    "    quadratic_transformer, qubo, hamiltonian = build_quadratic_transformer(qp)\n",
    "    print(qubo.prettyprint())\n",
    "    print(hamiltonian)\n",
    "    \n",
    "    ansatz = quantum_solution_setup(hamiltonian)\n",
    "    \n",
    "    # Step 3 (there is no step 2)\n",
    "    \n",
    "    estimator, sampler = setup_estimator_sampler()\n",
    "    \n",
    "    res = minimize(ansatz, hamiltonian, estimator)\n",
    "    print(res)\n",
    "    \n",
    "    samp_dist = compute_distribution(ansatz, sampler, res)\n",
    "    \n",
    "    solution = post_processing(qubo, quadratic_transformer, samp_dist)\n",
    "    print(solution)\n",
    "    \n",
    "    return {\n",
    "        \"value\": sum(np.array(value_of_items)*solution),\n",
    "        \"weight\": sum(np.array(weight_of_items)*solution)\n",
    "    }"
   ]
  },
  {
   "cell_type": "code",
   "execution_count": 14,
   "id": "1c4e48c0-7da7-44b2-bc70-bf0935b912f9",
   "metadata": {},
   "outputs": [
    {
     "data": {
      "text/plain": [
       "<Job | 94d01d1d-9c59-44b7-b430-e1a0eeed873b>"
      ]
     },
     "execution_count": 14,
     "metadata": {},
     "output_type": "execute_result"
    }
   ],
   "source": [
    "job = program_knapsack()\n",
    "job"
   ]
  },
  {
   "cell_type": "code",
   "execution_count": 16,
   "id": "50c710b3-6eb3-4f8f-b8c4-d5f69572bef6",
   "metadata": {},
   "outputs": [
    {
     "data": {
      "text/plain": [
       "'SUCCEEDED'"
      ]
     },
     "execution_count": 16,
     "metadata": {},
     "output_type": "execute_result"
    }
   ],
   "source": [
    "job.status()"
   ]
  },
  {
   "cell_type": "markdown",
   "id": "5a0762b4-445d-486a-b875-41713789dc12",
   "metadata": {},
   "source": [
    "### Intepretation of solution"
   ]
  },
  {
   "cell_type": "code",
   "execution_count": 17,
   "id": "7bd13995-29cd-47fb-9df2-c2c313beb0e7",
   "metadata": {},
   "outputs": [
    {
     "name": "stdout",
     "output_type": "stream",
     "text": [
      "Solution value: 16.0\n",
      "Solution weight: 12.0\n"
     ]
    }
   ],
   "source": [
    "import json\n",
    "\n",
    "middleware_res = json.loads(job.result())\n",
    "print('Solution value:', middleware_res[\"value\"])\n",
    "print('Solution weight:', middleware_res[\"weight\"])"
   ]
  },
  {
   "cell_type": "code",
   "execution_count": 18,
   "id": "d3b28ae9-b529-476f-97a5-eebe41ce8ca9",
   "metadata": {},
   "outputs": [
    {
     "name": "stdout",
     "output_type": "stream",
     "text": [
      "OpenBLAS WARNING - could not determine the L2 cache size on this system, assuming 256k\n",
      "OpenBLAS WARNING - could not determine the L2 cache size on this system, assuming 256k\n",
      "\\ This file has been generated by DOcplex\n",
      "\\ ENCODING=ISO-8859-1\n",
      "\\Problem name: 0-1 Knapsack problem\n",
      "\n",
      "Maximize\n",
      " obj: 4 x_0 + 3 x_1 + 5 x_2 + 6 x_3 + 7 x_4\n",
      "Subject To\n",
      " c1: 2 x_0 + 2 x_1 + 4 x_2 + 5 x_3 + 6 x_4 <= 12\n",
      "\n",
      "Bounds\n",
      " 0 <= x_0 <= 1\n",
      " 0 <= x_1 <= 1\n",
      " 0 <= x_2 <= 1\n",
      " 0 <= x_3 <= 1\n",
      " 0 <= x_4 <= 1\n",
      "\n",
      "Binaries\n",
      " x_0 x_1 x_2 x_3 x_4\n",
      "End\n",
      "\n",
      "Problem name: 0-1 Knapsack problem\n",
      "\n",
      "Maximize\n",
      "  4*x_0 + 3*x_1 + 5*x_2 + 6*x_3 + 7*x_4\n",
      "\n",
      "Subject to\n",
      "  Linear constraints (1)\n",
      "    2*x_0 + 2*x_1 + 4*x_2 + 5*x_3 + 6*x_4 <= 12  'c0'\n",
      "\n",
      "  Binary variables (5)\n",
      "    x_0 x_1 x_2 x_3 x_4\n",
      "\n",
      "Problem name: 0-1 Knapsack problem\n",
      "\n",
      "Minimize\n",
      "  26*c0@int_slack@0^2 + 104*c0@int_slack@0*c0@int_slack@1\n",
      "  + 208*c0@int_slack@0*c0@int_slack@2 + 260*c0@int_slack@0*c0@int_slack@3\n",
      "  + 104*c0@int_slack@1^2 + 416*c0@int_slack@1*c0@int_slack@2\n",
      "  + 520*c0@int_slack@1*c0@int_slack@3 + 416*c0@int_slack@2^2\n",
      "  + 1040*c0@int_slack@2*c0@int_slack@3 + 650*c0@int_slack@3^2\n",
      "  + 104*x_0*c0@int_slack@0 + 208*x_0*c0@int_slack@1 + 416*x_0*c0@int_slack@2\n",
      "  + 520*x_0*c0@int_slack@3 + 104*x_0^2 + 208*x_0*x_1 + 416*x_0*x_2 + 520*x_0*x_3\n",
      "  + 624*x_0*x_4 + 104*x_1*c0@int_slack@0 + 208*x_1*c0@int_slack@1\n",
      "  + 416*x_1*c0@int_slack@2 + 520*x_1*c0@int_slack@3 + 104*x_1^2 + 416*x_1*x_2\n",
      "  + 520*x_1*x_3 + 624*x_1*x_4 + 208*x_2*c0@int_slack@0 + 416*x_2*c0@int_slack@1\n",
      "  + 832*x_2*c0@int_slack@2 + 1040*x_2*c0@int_slack@3 + 416*x_2^2 + 1040*x_2*x_3\n",
      "  + 1248*x_2*x_4 + 260*x_3*c0@int_slack@0 + 520*x_3*c0@int_slack@1\n",
      "  + 1040*x_3*c0@int_slack@2 + 1300*x_3*c0@int_slack@3 + 650*x_3^2 + 1560*x_3*x_4\n",
      "  + 312*x_4*c0@int_slack@0 + 624*x_4*c0@int_slack@1 + 1248*x_4*c0@int_slack@2\n",
      "  + 1560*x_4*c0@int_slack@3 + 936*x_4^2 - 624*c0@int_slack@0\n",
      "  - 1248*c0@int_slack@1 - 2496*c0@int_slack@2 - 3120*c0@int_slack@3 - 1252*x_0\n",
      "  - 1251*x_1 - 2501*x_2 - 3126*x_3 - 3751*x_4 + 3744\n",
      "\n",
      "Subject to\n",
      "  No constraints\n",
      "\n",
      "  Binary variables (9)\n",
      "    x_0 x_1 x_2 x_3 x_4 c0@int_slack@0 c0@int_slack@1 c0@int_slack@2\n",
      "    c0@int_slack@3\n",
      "\n",
      "SparsePauliOp(['IIIIIIIIZ', 'IIIIIIIZI', 'IIIIIIZII', 'IIIIIZIII', 'IIIIZIIII', 'IIIZIIIII', 'IIZIIIIII', 'IZIIIIIII', 'ZIIIIIIII', 'IIIIIIIZZ', 'IIIIIIZIZ', 'IIIIIIZZI', 'IIIIIZIIZ', 'IIIIIZIZI', 'IIIIIZZII', 'IIIIZIIIZ', 'IIIIZIIZI', 'IIIIZIZII', 'IIIIZZIII', 'IIIZIIIIZ', 'IIIZIIIZI', 'IIIZIIZII', 'IIIZIZIII', 'IIIZZIIII', 'IIZIIIIIZ', 'IIZIIIIZI', 'IIZIIIZII', 'IIZIIZIII', 'IIZIZIIII', 'IIZZIIIII', 'IZIIIIIIZ', 'IZIIIIIZI', 'IZIIIIZII', 'IZIIIZIII', 'IZIIZIIII', 'IZIZIIIII', 'IZZIIIIII', 'ZIIIIIIIZ', 'ZIIIIIIZI', 'ZIIIIIZII', 'ZIIIIZIII', 'ZIIIZIIII', 'ZIIZIIIII', 'ZIZIIIIII', 'ZZIIIIIII'],\n",
      "              coeffs=[-180. +0.j, -180.5+0.j, -361.5+0.j, -452. +0.j, -542.5+0.j,  -91. +0.j,\n",
      " -182. +0.j, -364. +0.j, -455. +0.j,   52. +0.j,  104. +0.j,  104. +0.j,\n",
      "  130. +0.j,  130. +0.j,  260. +0.j,  156. +0.j,  156. +0.j,  312. +0.j,\n",
      "  390. +0.j,   26. +0.j,   26. +0.j,   52. +0.j,   65. +0.j,   78. +0.j,\n",
      "   52. +0.j,   52. +0.j,  104. +0.j,  130. +0.j,  156. +0.j,   26. +0.j,\n",
      "  104. +0.j,  104. +0.j,  208. +0.j,  260. +0.j,  312. +0.j,   52. +0.j,\n",
      "  104. +0.j,  130. +0.j,  130. +0.j,  260. +0.j,  325. +0.j,  390. +0.j,\n",
      "   65. +0.j,  130. +0.j,  260. +0.j])\n",
      " message: Optimization terminated successfully.\n",
      " success: True\n",
      "     fun: -127.04689061207074\n",
      "       x: [ 1.714e+03 -2.848e+02 ...  9.024e+02 -2.751e+02]\n",
      "     nit: 100\n",
      "    nfev: 200\n",
      "[1. 0. 1. 0. 1.]\n",
      "\n"
     ]
    }
   ],
   "source": [
    "print(job.logs())"
   ]
  },
  {
   "cell_type": "code",
   "execution_count": null,
   "id": "2a15a6e6-da0b-40be-823d-372edb6eedb6",
   "metadata": {},
   "outputs": [],
   "source": []
  }
 ],
 "metadata": {
  "kernelspec": {
   "display_name": "Python 3 (ipykernel)",
   "language": "python",
   "name": "python3"
  },
  "language_info": {
   "codemirror_mode": {
    "name": "ipython",
    "version": 3
   },
   "file_extension": ".py",
   "mimetype": "text/x-python",
   "name": "python",
   "nbconvert_exporter": "python",
   "pygments_lexer": "ipython3",
   "version": "3.9.13"
  }
 },
 "nbformat": 4,
 "nbformat_minor": 5
}
