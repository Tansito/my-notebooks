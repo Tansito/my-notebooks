{
 "cells": [
  {
   "cell_type": "markdown",
   "id": "1e532190-de8c-4929-9c19-cb428ab1bccf",
   "metadata": {},
   "source": [
    "# Generic optimization problem\n",
    "\n",
    "This notebook is performing a 3 bit minimization for the following problem \n",
    "\n",
    "$$\n",
    "x*y - x*z + 2*y*z + x - 2*y - 3*z\n",
    "$$"
   ]
  },
  {
   "cell_type": "markdown",
   "id": "5dce87f9-6c61-4ebf-a210-fe99770f3c33",
   "metadata": {},
   "source": [
    "## **Step 0**: Setup"
   ]
  },
  {
   "cell_type": "code",
   "execution_count": 1,
   "id": "67a5a8b8-337f-4df7-b9c7-716c3ff36529",
   "metadata": {},
   "outputs": [
    {
     "name": "stderr",
     "output_type": "stream",
     "text": [
      "OpenBLAS WARNING - could not determine the L2 cache size on this system, assuming 256k\n",
      "OpenBLAS WARNING - could not determine the L2 cache size on this system, assuming 256k\n",
      "OpenBLAS WARNING - could not determine the L2 cache size on this system, assuming 256k\n"
     ]
    }
   ],
   "source": [
    "# General imports\n",
    "import numpy as np\n",
    "\n",
    "# Qiskit ansatz circuits\n",
    "from qiskit.circuit.library import RealAmplitudes\n",
    "\n",
    "# Qiskit primitives\n",
    "from qiskit.primitives import Estimator as QiskitEstimator\n",
    "from qiskit.primitives import Sampler as QiskitSampler\n",
    "\n",
    "# Qiskit runtime\n",
    "from qiskit_ibm_runtime import QiskitRuntimeService\n",
    "from qiskit_ibm_runtime import Estimator, Sampler, Session\n",
    "\n",
    "# quadratic_program\n",
    "from quadratic_program import QuadraticProgram\n",
    "\n",
    "# Docplex - classical description of optimization problems\n",
    "from docplex.mp.model import Model\n",
    "\n",
    "# translations\n",
    "from translators import docplex_mp_to_qp\n",
    "from translators import qubo_to_sparse_pauli_op\n",
    "\n",
    "# workflows \n",
    "from workflows import QuadraticProgramPostprocess, QuadraticProgramConverter\n",
    "\n",
    "# SPSA\n",
    "from spsa import minimize_spsa\n",
    "\n",
    "# Quantum Middleware\n",
    "import os\n",
    "from quantum_serverless import Provider, distribute_program, distribute_task"
   ]
  },
  {
   "cell_type": "markdown",
   "id": "1237cbeb-847a-4c59-bd2d-e5a332b43cb2",
   "metadata": {},
   "source": [
    "## Load IBM Quantum Middleware"
   ]
  },
  {
   "cell_type": "code",
   "execution_count": 2,
   "id": "4ecdb64d-b886-4ab1-a2ec-d36c21e17115",
   "metadata": {},
   "outputs": [
    {
     "data": {
      "text/plain": [
       "<Provider: gateway-provider>"
      ]
     },
     "execution_count": 2,
     "metadata": {},
     "output_type": "execute_result"
    }
   ],
   "source": [
    "provider = Provider(\n",
    "#    token=\"YOUR_TOKEN_FROM_STAGING\",\n",
    "    username=\"user\",\n",
    "    password=\"password123\",\n",
    "    host=os.environ.get(\"GATEWAY_HOST\", \"http://localhost:8000\")\n",
    ")\n",
    "provider"
   ]
  },
  {
   "cell_type": "markdown",
   "id": "5a6009b4-fc67-4736-9178-1c3f5057fc40",
   "metadata": {},
   "source": [
    "## **Step 1** Map the problem to a Quantum Native format (Set of Operators, and a set of Quantum Circuits)\n",
    "\n",
    "Specify optimization problem using docplex and convert to Quadratic Unconstained Binary Opimization (QUBO) problem that can be cast as an Ising Hamiltonian suitable for a quantum solution."
   ]
  },
  {
   "cell_type": "code",
   "execution_count": 3,
   "id": "60e03730-2f3a-48fe-bc50-9d079c11603c",
   "metadata": {},
   "outputs": [],
   "source": [
    "def build_model():\n",
    "    mdl = Model(\"docplex model\")\n",
    "    x = mdl.binary_var(\"x\")\n",
    "    y = mdl.binary_var(\"y\")\n",
    "    z = mdl.binary_var(\"z\")\n",
    "    mdl.minimize(x*y - x*z + 2*y*z + x - 2*y - 3*z)\n",
    "    return mdl"
   ]
  },
  {
   "cell_type": "markdown",
   "id": "823b3cd9-be66-4d94-a9a1-d766a270dbf6",
   "metadata": {},
   "source": [
    "### Convert to our `QuadraticProgram` format"
   ]
  },
  {
   "cell_type": "code",
   "execution_count": 4,
   "id": "09be9104-50c0-4c97-b1ed-30fda8307e22",
   "metadata": {},
   "outputs": [],
   "source": [
    "def build_quadratic_program(mdl):\n",
    "    qp = docplex_mp_to_qp(mdl)\n",
    "    return qp"
   ]
  },
  {
   "cell_type": "markdown",
   "id": "5d434122-503a-4949-b6a8-0674882c4644",
   "metadata": {},
   "source": [
    "### Classical transformation to QUBO problem and Ising Hamiltonian"
   ]
  },
  {
   "cell_type": "code",
   "execution_count": 5,
   "id": "cac6937f",
   "metadata": {},
   "outputs": [],
   "source": [
    "def build_quadratic_transformer(qp):\n",
    "    quadratic_transformer = QuadraticProgramConverter()\n",
    "    qubo = quadratic_transformer.run(qp)\n",
    "    hamiltonian, offset = qubo_to_sparse_pauli_op(qubo)\n",
    "    return quadratic_transformer, qubo, hamiltonian"
   ]
  },
  {
   "cell_type": "markdown",
   "id": "083e12f9-b6df-4273-9752-08bca78df8c6",
   "metadata": {},
   "source": [
    "### Define ansatz circuit from circuit library"
   ]
  },
  {
   "cell_type": "code",
   "execution_count": 6,
   "id": "bfc95d5d-dada-43ac-a3f1-0414145de406",
   "metadata": {},
   "outputs": [],
   "source": [
    "def quantum_solution_setup(hamiltonian):\n",
    "    ansatz = RealAmplitudes(hamiltonian.num_qubits, entanglement = 'linear', reps=2)\n",
    "    return ansatz"
   ]
  },
  {
   "cell_type": "markdown",
   "id": "70483b5f-612c-4216-8df7-a4e2834bd48d",
   "metadata": {},
   "source": [
    "## **Step 2**: Optimize the circuits and the operators to be measured"
   ]
  },
  {
   "cell_type": "code",
   "execution_count": 7,
   "id": "dae7dacb-5f0c-418d-ae4c-498cf74dfd74",
   "metadata": {},
   "outputs": [],
   "source": [
    "from qiskit.compiler import transpile\n",
    "\n",
    "def optimize_circuits(ansatz):\n",
    "    ansatz_ibm = transpile(ansatz, basis_gates = ['cz', 'sx', 'rz'],  coupling_map =[[0, 1], [1, 2]], optimization_level=3)\n",
    "    return ansatz_ibm"
   ]
  },
  {
   "cell_type": "code",
   "execution_count": 8,
   "id": "7ad3e1be-53ee-4a97-ba2f-a79a0818e157",
   "metadata": {},
   "outputs": [],
   "source": [
    "from permute_sparse_pauli_op import permute_sparse_pauli_op\n",
    "\n",
    "def optimize_operators(ansatz, ansatz_ibm, hamiltonian):\n",
    "    layout = ansatz_ibm.layout.initial_layout\n",
    "    hamiltonian_ibm = permute_sparse_pauli_op(hamiltonian,layout, ansatz.qubits)\n",
    "    return hamiltonian_ibm"
   ]
  },
  {
   "cell_type": "markdown",
   "id": "8c55893f-5e2e-4519-80ba-6711b93b045d",
   "metadata": {},
   "source": [
    "## **Step 3**: Execute using a quantum primitive function (estimator or sampler)"
   ]
  },
  {
   "cell_type": "markdown",
   "id": "554e5fe8-8bb6-4a91-95a1-a992252d0968",
   "metadata": {},
   "source": [
    "### Standard cost function definition"
   ]
  },
  {
   "cell_type": "code",
   "execution_count": 9,
   "id": "aed58f2e-0761-441f-aeea-793adeabc63a",
   "metadata": {},
   "outputs": [],
   "source": [
    "def cost_func(params, ansatz, hamiltonian, estimator):\n",
    "    \"\"\"Return estimate of energy from estimator\n",
    "\n",
    "    Parameters:\n",
    "        params (ndarray): Array of ansatz parameters\n",
    "        ansatz (QuantumCircuit): Parameterized ansatz circuit\n",
    "        hamiltonian (SparsePauliOp): Operator representation of Hamiltonian\n",
    "        estimator (Estimator): Estimator primitive instance\n",
    "\n",
    "    Returns:\n",
    "        float: Energy estimate\n",
    "    \"\"\"\n",
    "    cost = estimator.run(ansatz, hamiltonian, parameter_values=params).result().values[0]\n",
    "    return cost"
   ]
  },
  {
   "cell_type": "markdown",
   "id": "b3b0aac9-67cc-424a-8cfa-5368dbeea9b8",
   "metadata": {},
   "source": [
    "### Setup estimator and sampler instances"
   ]
  },
  {
   "cell_type": "code",
   "execution_count": 10,
   "id": "6f3315e0-b85e-44e9-a286-01888d28038f",
   "metadata": {},
   "outputs": [],
   "source": [
    "def setup_estimator_sampler():\n",
    "    #session = Session(backend=backend)\n",
    "    #estimator = Estimator(session=session, options={\"shots\": int(1e4)})\n",
    "    #sampler = Sampler(session=session, options={\"shots\": int(1e4)})\n",
    "    estimator = QiskitEstimator(options={\"shots\": int(1e4)})\n",
    "    sampler = QiskitSampler(options={\"shots\": int(1e4)})\n",
    "    return estimator, sampler"
   ]
  },
  {
   "cell_type": "markdown",
   "id": "c8302b04-36fb-429f-9d92-446f9b9e6333",
   "metadata": {},
   "source": [
    "### Perform minimization using classical SPSA optimizer"
   ]
  },
  {
   "cell_type": "code",
   "execution_count": 11,
   "id": "0fd6a59d-7e53-42a9-9410-c236239ed66a",
   "metadata": {},
   "outputs": [],
   "source": [
    "def minimize(ansatz, ansatz_ibm, hamiltonian_ibm, estimator):\n",
    "    x0 = 2*np.pi*np.random.random(size=ansatz.num_parameters)\n",
    "    res = minimize_spsa(cost_func, x0, args=(ansatz_ibm, hamiltonian_ibm, estimator), maxiter=100)\n",
    "    return res"
   ]
  },
  {
   "cell_type": "markdown",
   "id": "39c2b583-8ec4-4cca-8014-697cbda48207",
   "metadata": {},
   "source": [
    "### Computute sampled distribution at optimal values"
   ]
  },
  {
   "cell_type": "code",
   "execution_count": 12,
   "id": "a63e4bba-1d5b-402e-ae39-8cd35c6843d9",
   "metadata": {},
   "outputs": [],
   "source": [
    "def compute_distribution(ansatz_ibm, sampler, res):\n",
    "    # Assign solution parameters to ansatz\n",
    "    qc = ansatz_ibm.assign_parameters(res.x)\n",
    "    qc.measure_all()\n",
    "    samp_dist = sampler.run(qc, shots=int(1e4)).result().quasi_dists[0]\n",
    "    return samp_dist"
   ]
  },
  {
   "cell_type": "markdown",
   "id": "8f52cbc3-618f-4c95-ab07-ae28c9d884ab",
   "metadata": {},
   "source": [
    "## **Step 4**: Post-processing of the results to return either a plot or the answer\n",
    "Transform quantum solution and convert back into classical variable space"
   ]
  },
  {
   "cell_type": "code",
   "execution_count": 13,
   "id": "6538029d-37e4-4c21-9423-1949496c2600",
   "metadata": {},
   "outputs": [],
   "source": [
    "def post_processing(qubo, quadratic_transformer, samp_dist):\n",
    "    solution = QuadraticProgramPostprocess(qubo, quadratic_transformer).run(samp_dist)\n",
    "    return solution"
   ]
  },
  {
   "cell_type": "markdown",
   "id": "ec89ce58-1ad4-4d2b-ab7d-a7e158f286e2",
   "metadata": {},
   "source": [
    "### Setup Middleware"
   ]
  },
  {
   "cell_type": "code",
   "execution_count": 14,
   "id": "d2df7252-c9f6-4288-ae19-2a3817ff4871",
   "metadata": {},
   "outputs": [],
   "source": [
    "@distribute_program(provider, working_dir=\"./\", dependencies=[\"docplex\"])\n",
    "def program_optimization():\n",
    "    \n",
    "    # Step 1\n",
    "    \n",
    "    mdl = build_model()\n",
    "    print(mdl.export_as_lp_string())\n",
    "    \n",
    "    qp = build_quadratic_program(mdl)\n",
    "    print(qp.prettyprint())\n",
    "    \n",
    "    quadratic_transformer, qubo, hamiltonian = build_quadratic_transformer(qp)\n",
    "    print(qubo.prettyprint())\n",
    "    print(hamiltonian)\n",
    "    \n",
    "    ansatz = quantum_solution_setup(hamiltonian)\n",
    "    print(ansatz.decompose())\n",
    "    \n",
    "    # Step 2\n",
    "    \n",
    "    ansatz_ibm = optimize_circuits(ansatz)\n",
    "    print(ansatz_ibm)\n",
    "    \n",
    "    hamiltonian_ibm = optimize_operators(ansatz, ansatz_ibm, hamiltonian)\n",
    "    print(hamiltonian_ibm)\n",
    "    \n",
    "    # Step 3\n",
    "    \n",
    "    estimator, sampler = setup_estimator_sampler()\n",
    "    res = minimize(ansatz, ansatz_ibm, hamiltonian_ibm, estimator)\n",
    "    print(res)\n",
    "    \n",
    "    samp_dist = compute_distribution(ansatz_ibm, sampler, res)\n",
    "    solution = post_processing(qubo, quadratic_transformer, samp_dist)\n",
    "        \n",
    "    return solution.tolist()"
   ]
  },
  {
   "cell_type": "code",
   "execution_count": 15,
   "id": "e77f47c9-11ec-48f2-a3e1-b55f98186248",
   "metadata": {},
   "outputs": [
    {
     "data": {
      "text/plain": [
       "<Job | dc715e62-60d3-4498-98e7-13e94236357b>"
      ]
     },
     "execution_count": 15,
     "metadata": {},
     "output_type": "execute_result"
    }
   ],
   "source": [
    "job = program_optimization()\n",
    "job"
   ]
  },
  {
   "cell_type": "code",
   "execution_count": 17,
   "id": "90e67fda-ae7e-4805-be36-8a1c70659aaa",
   "metadata": {},
   "outputs": [
    {
     "data": {
      "text/plain": [
       "'SUCCEEDED'"
      ]
     },
     "execution_count": 17,
     "metadata": {},
     "output_type": "execute_result"
    }
   ],
   "source": [
    "job.status()"
   ]
  },
  {
   "cell_type": "code",
   "execution_count": 18,
   "id": "8ee8b345-6da9-496a-9c39-eb45e7a0df2b",
   "metadata": {},
   "outputs": [
    {
     "data": {
      "text/plain": [
       "'[0.0, 0.0, 1.0]'"
      ]
     },
     "execution_count": 18,
     "metadata": {},
     "output_type": "execute_result"
    }
   ],
   "source": [
    "job.result()"
   ]
  },
  {
   "cell_type": "code",
   "execution_count": 19,
   "id": "d128f31a-a1eb-4542-9a3e-bb3e37df47e8",
   "metadata": {},
   "outputs": [
    {
     "name": "stdout",
     "output_type": "stream",
     "text": [
      "OpenBLAS WARNING - could not determine the L2 cache size on this system, assuming 256k\n",
      "OpenBLAS WARNING - could not determine the L2 cache size on this system, assuming 256k\n",
      "\\ This file has been generated by DOcplex\n",
      "\\ ENCODING=ISO-8859-1\n",
      "\\Problem name: docplex model\n",
      "\n",
      "Minimize\n",
      " obj: x - 2 y - 3 z + [ 2 x*y - 2 x*z + 4 y*z ]/2\n",
      "Subject To\n",
      "\n",
      "Bounds\n",
      " 0 <= x <= 1\n",
      " 0 <= y <= 1\n",
      " 0 <= z <= 1\n",
      "\n",
      "Binaries\n",
      " x y z\n",
      "End\n",
      "\n",
      "Problem name: docplex model\n",
      "\n",
      "Minimize\n",
      "  x*y - x*z + 2*y*z + x - 2*y - 3*z\n",
      "\n",
      "Subject to\n",
      "  No constraints\n",
      "\n",
      "  Binary variables (3)\n",
      "    x y z\n",
      "\n",
      "Problem name: docplex model\n",
      "\n",
      "Minimize\n",
      "  x*y - x*z + 2*y*z + x - 2*y - 3*z\n",
      "\n",
      "Subject to\n",
      "  No constraints\n",
      "\n",
      "  Binary variables (3)\n",
      "    x y z\n",
      "\n",
      "SparsePauliOp(['IIZ', 'IZI', 'ZII', 'IZZ', 'ZIZ', 'ZZI'],\n",
      "              coeffs=[-0.5 +0.j,  0.25+0.j,  1.25+0.j,  0.25+0.j, -0.25+0.j,  0.5 +0.j])\n",
      "     ┌──────────┐     ┌──────────┐                 ┌──────────┐            \n",
      "q_0: ┤ Ry(θ[0]) ├──■──┤ Ry(θ[3]) ├──────────────■──┤ Ry(θ[6]) ├────────────\n",
      "     ├──────────┤┌─┴─┐└──────────┘┌──────────┐┌─┴─┐└──────────┘┌──────────┐\n",
      "q_1: ┤ Ry(θ[1]) ├┤ X ├─────■──────┤ Ry(θ[4]) ├┤ X ├─────■──────┤ Ry(θ[7]) ├\n",
      "     ├──────────┤└───┘   ┌─┴─┐    ├──────────┤└───┘   ┌─┴─┐    ├──────────┤\n",
      "q_2: ┤ Ry(θ[2]) ├────────┤ X ├────┤ Ry(θ[5]) ├────────┤ X ├────┤ Ry(θ[8]) ├\n",
      "     └──────────┘        └───┘    └──────────┘        └───┘    └──────────┘\n",
      "global phase: π\n",
      "         ┌────┐┌──────────────┐   ┌────┐   ┌────────┐      ┌────┐  »\n",
      "q_0 -> 0 ┤ √X ├┤ Rz(θ[0] + π) ├───┤ √X ├───┤ Rz(3π) ├─■────┤ √X ├──»\n",
      "         ├────┤├──────────────┤┌──┴────┴──┐└─┬────┬─┘ │ ┌──┴────┴─┐»\n",
      "q_1 -> 1 ┤ √X ├┤ Rz(θ[1] + π) ├┤ Rz(-π/2) ├──┤ √X ├───■─┤ Rz(π/2) ├»\n",
      "         ├────┤├──────────────┤├──────────┤  ├────┤     └─────────┘»\n",
      "q_2 -> 2 ┤ √X ├┤ Rz(θ[2] + π) ├┤ Rz(-π/2) ├──┤ √X ├────────────────»\n",
      "         └────┘└──────────────┘└──────────┘  └────┘                »\n",
      "«         ┌──────────────┐   ┌────┐  ┌────────┐                          »\n",
      "«q_0 -> 0 ┤ Rz(θ[3] + π) ├───┤ √X ├──┤ Rz(3π) ├──────────────────────────»\n",
      "«         └────┬────┬────┘┌──┴────┴─┐└────────┘  ┌────┐  ┌──────────────┐»\n",
      "«q_1 -> 1 ─────┤ √X ├─────┤ Rz(π/2) ├────■───────┤ √X ├──┤ Rz(θ[4] + π) ├»\n",
      "«              └────┘     └─────────┘    │     ┌─┴────┴─┐└────┬────┬────┘»\n",
      "«q_2 -> 2 ───────────────────────────────■─────┤ Rz(-π) ├─────┤ √X ├─────»\n",
      "«                                              └────────┘     └────┘     »\n",
      "«                                                    ┌────┐  ┌──────────────┐»\n",
      "«q_0 -> 0 ─────────────────────────────────■─────────┤ √X ├──┤ Rz(θ[6] + π) ├»\n",
      "«         ┌──────────┐     ┌────┐          │      ┌──┴────┴─┐└────┬────┬────┘»\n",
      "«q_1 -> 1 ┤ Rz(-π/2) ├─────┤ √X ├──────────■──────┤ Rz(π/2) ├─────┤ √X ├─────»\n",
      "«         ├─────────┬┘┌────┴────┴────┐┌──────────┐└──┬────┬─┘     └────┘     »\n",
      "«q_2 -> 2 ┤ Rz(π/2) ├─┤ Rz(θ[5] + π) ├┤ Rz(-π/2) ├───┤ √X ├──────────────────»\n",
      "«         └─────────┘ └──────────────┘└──────────┘   └────┘                  »\n",
      "«            ┌────┐  ┌────────┐                                     »\n",
      "«q_0 -> 0 ───┤ √X ├──┤ Rz(3π) ├─────────────────────────────────────»\n",
      "«         ┌──┴────┴─┐└────────┘  ┌────┐  ┌──────────────┐   ┌────┐  »\n",
      "«q_1 -> 1 ┤ Rz(π/2) ├────■───────┤ √X ├──┤ Rz(θ[7] + π) ├───┤ √X ├──»\n",
      "«         └─────────┘    │     ┌─┴────┴─┐└────┬────┬────┘┌──┴────┴─┐»\n",
      "«q_2 -> 2 ───────────────■─────┤ Rz(-π) ├─────┤ √X ├─────┤ Rz(π/2) ├»\n",
      "«                              └────────┘     └────┘     └─────────┘»\n",
      "«                                         \n",
      "«q_0 -> 0 ────────────────────────────────\n",
      "«            ┌────────┐                   \n",
      "«q_1 -> 1 ───┤ Rz(3π) ├───────────────────\n",
      "«         ┌──┴────────┴──┐┌────┐┌────────┐\n",
      "«q_2 -> 2 ┤ Rz(θ[8] + π) ├┤ √X ├┤ Rz(3π) ├\n",
      "«         └──────────────┘└────┘└────────┘\n",
      "SparsePauliOp(['IIZ', 'IZI', 'ZII', 'IZZ', 'ZIZ', 'ZZI'],\n",
      "              coeffs=[-0.5 +0.j,  0.25+0.j,  1.25+0.j,  0.25+0.j, -0.25+0.j,  0.5 +0.j])\n",
      " message: Optimization terminated successfully.\n",
      " success: True\n",
      "     fun: -1.499892086339577\n",
      "       x: [ 1.336e+00  4.456e-01  1.559e+00  2.082e+00 -1.121e+00\n",
      "            4.256e+00  2.074e+00  4.388e+00  5.818e+00]\n",
      "     nit: 100\n",
      "    nfev: 200\n",
      "\n"
     ]
    }
   ],
   "source": [
    "print(job.logs())"
   ]
  },
  {
   "cell_type": "code",
   "execution_count": null,
   "id": "6f4025b6-f5bf-43d8-83ff-de334aac8db2",
   "metadata": {},
   "outputs": [],
   "source": []
  }
 ],
 "metadata": {
  "kernelspec": {
   "display_name": "Python 3 (ipykernel)",
   "language": "python",
   "name": "python3"
  },
  "language_info": {
   "codemirror_mode": {
    "name": "ipython",
    "version": 3
   },
   "file_extension": ".py",
   "mimetype": "text/x-python",
   "name": "python",
   "nbconvert_exporter": "python",
   "pygments_lexer": "ipython3",
   "version": "3.9.13"
  }
 },
 "nbformat": 4,
 "nbformat_minor": 5
}
